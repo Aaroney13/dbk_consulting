{
  "cells": [
    {
      "cell_type": "code",
      "execution_count": 22,
      "metadata": {
        "colab": {
          "base_uri": "https://localhost:8080/"
        },
        "id": "-WN0IWWfJpr4",
        "outputId": "4a37ed4e-63d4-4343-fdcb-7fc1283ff932"
      },
      "outputs": [
        {
          "name": "stdout",
          "output_type": "stream",
          "text": [
            "1/1 [==============================] - 0s 305ms/step\n",
            "[[0.853794   0.14620595]] not hit\n"
          ]
        }
      ],
      "source": [
        "import pandas as pd\n",
        "import numpy as np\n",
        "import statsmodels.api as sm\n",
        "import matplotlib.pyplot as plt\n",
        "from sklearn.model_selection import train_test_split\n",
        "from tensorflow import keras\n",
        "from keras.preprocessing.text import Tokenizer\n",
        "from keras.utils import pad_sequences\n",
        "import h5py as h5\n",
        "\n",
        "MAX_NB_WORDS =  50000\n",
        "\n",
        "# make sure to load model if running in google collab\n",
        "model = keras.models.load_model('/content/model.h5')\n",
        "MAX_SEQUENCE_LENGTH = 250 \n",
        "tokenizer = Tokenizer(num_words=MAX_NB_WORDS, filters='!\"#$%&()*+,-./:;<=>?@[\\]^_`{|}~', lower=True)\n",
        "\n",
        "# dont edit, nonsense headline to make sure the model does not deem this as good\n",
        "new_headline = ['l bozo']\n",
        "tokenizer.fit_on_texts(new_headline)\n",
        "seq = tokenizer.texts_to_sequences(new_headline)\n",
        "padded = pad_sequences(seq, maxlen=MAX_SEQUENCE_LENGTH)\n",
        "nonesense = model.predict(padded)\n",
        "index_max = max(range(len(nonesense[0])), key=nonesense[0].__getitem__)\n",
        "labels = []\n",
        "if index_max == 0:\n",
        "  labels.append('not hit')\n",
        "  labels.append('hit')\n",
        "elif index_max == 1:\n",
        "  labels.append('hit')\n",
        "  labels.append('not hit')\n",
        "\n",
        "print(nonesense, labels[np.argmax(nonesense)])"
      ]
    },
    {
      "cell_type": "code",
      "execution_count": 58,
      "metadata": {
        "colab": {
          "base_uri": "https://localhost:8080/",
          "height": 334
        },
        "id": "6-Q5x-UfMDIB",
        "outputId": "be4b0971-1851-4c46-9e36-af0ce88dcbe8"
      },
      "outputs": [
        {
          "name": "stdout",
          "output_type": "stream",
          "text": [
            "1/1 [==============================] - 0s 47ms/step\n",
            "[[0.7272489  0.27275112]] not hit\n",
            "0.853794\n",
            "0.7272489\n"
          ]
        },
        {
          "data": {
            "image/png": "[encoded data removed]",
            "text/plain": [
              "<Figure size 432x288 with 1 Axes>"
            ]
          },
          "metadata": {
            "needs_background": "light"
          },
          "output_type": "display_data"
        }
      ],
      "source": [
        "# Replace this headline with your headline\n",
        "new_headline = ['umd suffers massive defeat']\n",
        "tokenizer.fit_on_texts(new_headline)\n",
        "seq = tokenizer.texts_to_sequences(new_headline)\n",
        "padded = pad_sequences(seq, maxlen=MAX_SEQUENCE_LENGTH)\n",
        "pred = model.predict(padded)\n",
        "\n",
        "print(pred, labels[np.argmax(pred)])\n",
        "x = np.arange (0, 1, .1)\n",
        "print(nonesense[0][0])\n",
        "print(pred[0][0])\n",
        "plt.plot(nonesense[0][0], 0, 'x', color='b')\n",
        "plt.plot(pred[0][0], 0, 'x', color='r')\n",
        "plt.xticks(x)\n",
        "plt.show()\n",
        "\n",
        "# plot -- red represents your predicted value, blue is the nonsense headline\n",
        "# The closer red is to blue, the less likely the model feels your article will\n",
        "# have organic searches\n",
        "# This model is not a representation of how well your article will do,\n",
        "# rather, it shows the likelihood that \n",
        "# at least one person will organically see it on google\n",
        "# A rating of .5 represents a hit, our team suggests getting the red x to reach .5 \n",
        "# for future articles made for organic searches"
      ]
    }
  ],
  "metadata": {
    "colab": {
      "provenance": []
    },
    "kernelspec": {
      "display_name": "Python 3",
      "name": "python3"
    },
    "language_info": {
      "name": "python"
    }
  },
  "nbformat": 4,
  "nbformat_minor": 0
}
