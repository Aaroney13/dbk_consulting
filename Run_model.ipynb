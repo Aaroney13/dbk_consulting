{
  "nbformat": 4,
  "nbformat_minor": 0,
  "metadata": {
    "colab": {
      "provenance": []
    },
    "kernelspec": {
      "name": "python3",
      "display_name": "Python 3"
    },
    "language_info": {
      "name": "python"
    }
  },
  "cells": [
    {
      "cell_type": "code",
      "execution_count": 21,
      "metadata": {
        "colab": {
          "base_uri": "https://localhost:8080/"
        },
        "id": "-WN0IWWfJpr4",
        "outputId": "b85f3d3b-6ebb-4f0c-caa1-d2db98afb4c3"
      },
      "outputs": [
        {
          "output_type": "stream",
          "name": "stdout",
          "text": [
            "1/1 [==============================] - 0s 290ms/step\n",
            "[[0.7539869  0.24601305]] not hit\n"
          ]
        }
      ],
      "source": [
        "import pandas as pd\n",
        "import numpy as np\n",
        "import statsmodels.api as sm\n",
        "import matplotlib.pyplot as plt\n",
        "from sklearn.model_selection import train_test_split\n",
        "from tensorflow import keras\n",
        "from keras.preprocessing.text import Tokenizer\n",
        "from keras.utils import pad_sequences\n",
        "import h5py as h5\n",
        "\n",
        "MAX_NB_WORDS =  50000\n",
        "df = pd.read_csv(\"/content/test_data.csv\")\n",
        "#df['Organic Searches'].plot.kde()\n",
        "avg = df.groupby(by = ['Page Title'], as_index = False).agg({'Pageviews' : 'sum', 'Organic Searches' : 'sum'})\n",
        "df2 = df.drop_duplicates(subset=['Page Title'])\n",
        "df = pd.merge(avg, df2[['Page Title', 'date_published', 'category']], how='left', on='Page Title')\n",
        "df['log_organic'] = np.log(df['Organic Searches'] + 1)\n",
        "\n",
        "# make sure to load model if running in google collab\n",
        "model = keras.models.load_model('/content/model.h5')\n",
        "MAX_SEQUENCE_LENGTH = 250 \n",
        "tokenizer = Tokenizer(num_words=MAX_NB_WORDS, filters='!\"#$%&()*+,-./:;<=>?@[\\]^_`{|}~', lower=True)\n",
        "\n",
        "# dont edit, nonsense headline to make sure the model does not deem this as good\n",
        "new_headline = ['l bozo']\n",
        "tokenizer.fit_on_texts(df['Page Title'])\n",
        "seq = tokenizer.texts_to_sequences(new_headline)\n",
        "padded = pad_sequences(seq, maxlen=MAX_SEQUENCE_LENGTH)\n",
        "nonesense = model.predict(padded)\n",
        "index_max = max(range(len(nonesense[0])), key=nonesense[0].__getitem__)\n",
        "labels = []\n",
        "if index_max == 0:\n",
        "  labels.append('not hit')\n",
        "  labels.append('hit')\n",
        "elif index_max == 1:\n",
        "  labels.append('hit')\n",
        "  labels.append('not hit')\n",
        "\n",
        "print(nonesense, labels[np.argmax(nonesense)])"
      ]
    },
    {
      "cell_type": "code",
      "source": [
        "# Replace this headline with your headline\n",
        "new_headline = ['titles that have never cant existed ']\n",
        "# headline ['umd suffers defeat'] is less likely\n",
        "\n",
        "\n",
        "seq = tokenizer.texts_to_sequences(new_headline)\n",
        "padded = pad_sequences(seq, maxlen=MAX_SEQUENCE_LENGTH)\n",
        "print(padded)\n",
        "pred = model.predict(padded)\n",
        "\n",
        "print(pred, labels[np.argmax(pred)])\n",
        "x = np.arange (0, 1, .1)\n",
        "print(nonesense[0][0])\n",
        "print(pred[0][0])\n",
        "plt.plot(nonesense[0][0], 0, 'x', color='b')\n",
        "plt.plot(pred[0][0], 0, 'x', color='r')\n",
        "plt.xticks(x)\n",
        "plt.show()\n",
        "\n",
        "# plot -- red represents your predicted value, blue is the nonsense headline\n",
        "# The closer red is to blue, the less likely the model feels your article will\n",
        "# have organic searches\n",
        "# This model is not a representation of how well your article will do,\n",
        "# rather, it shows the likelyhood that \n",
        "# google will show it to people when searched"
      ],
      "metadata": {
        "colab": {
          "base_uri": "https://localhost:8080/",
          "height": 647
        },
        "id": "6-Q5x-UfMDIB",
        "outputId": "559887a2-9e4e-4968-99df-967f31addfb8"
      },
      "execution_count": 25,
      "outputs": [
        {
          "output_type": "stream",
          "name": "stdout",
          "text": [
            "[[   0    0    0    0    0    0    0    0    0    0    0    0    0    0\n",
            "     0    0    0    0    0    0    0    0    0    0    0    0    0    0\n",
            "     0    0    0    0    0    0    0    0    0    0    0    0    0    0\n",
            "     0    0    0    0    0    0    0    0    0    0    0    0    0    0\n",
            "     0    0    0    0    0    0    0    0    0    0    0    0    0    0\n",
            "     0    0    0    0    0    0    0    0    0    0    0    0    0    0\n",
            "     0    0    0    0    0    0    0    0    0    0    0    0    0    0\n",
            "     0    0    0    0    0    0    0    0    0    0    0    0    0    0\n",
            "     0    0    0    0    0    0    0    0    0    0    0    0    0    0\n",
            "     0    0    0    0    0    0    0    0    0    0    0    0    0    0\n",
            "     0    0    0    0    0    0    0    0    0    0    0    0    0    0\n",
            "     0    0    0    0    0    0    0    0    0    0    0    0    0    0\n",
            "     0    0    0    0    0    0    0    0    0    0    0    0    0    0\n",
            "     0    0    0    0    0    0    0    0    0    0    0    0    0    0\n",
            "     0    0    0    0    0    0    0    0    0    0    0    0    0    0\n",
            "     0    0    0    0    0    0    0    0    0    0    0    0    0    0\n",
            "     0    0    0    0    0    0    0    0    0    0    0    0    0    0\n",
            "     0    0    0    0    0    0    0    0 9541   86   60  708]]\n",
            "1/1 [==============================] - 0s 110ms/step\n",
            "[[0.3110154 0.6889846]] hit\n",
            "0.7539869\n",
            "0.3110154\n"
          ]
        },
        {
          "output_type": "display_data",
          "data": {
            "text/plain": [
              "<Figure size 432x288 with 1 Axes>"
            ],
            "image/png": "[encoded data removed]"
          },
          "metadata": {
            "needs_background": "light"
          }
        }
      ]
    }
  ]
}